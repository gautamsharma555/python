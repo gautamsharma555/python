{
  "nbformat": 4,
  "nbformat_minor": 0,
  "metadata": {
    "colab": {
      "provenance": []
    },
    "kernelspec": {
      "name": "python3",
      "display_name": "Python 3"
    },
    "language_info": {
      "name": "python"
    }
  },
  "cells": [
    {
      "cell_type": "markdown",
      "source": [
        "**Prime Number**"
      ],
      "metadata": {
        "id": "XlZVRJimbVei"
      }
    },
    {
      "cell_type": "code",
      "source": [
        "Number = int(input(\"Enter a Number: \"))\n",
        "for i in range(2,Number):\n",
        "  if Number % i == 0: #verifying not a prime number\n",
        "    print(\"Not Prime\")\n",
        "    break\n",
        "else:\n",
        "  print(\"Prime\")"
      ],
      "metadata": {
        "colab": {
          "base_uri": "https://localhost:8080/"
        },
        "id": "uPXGU4_5bsx5",
        "outputId": "6949393b-d910-476f-a310-9da58d935f87"
      },
      "execution_count": null,
      "outputs": [
        {
          "output_type": "stream",
          "name": "stdout",
          "text": [
            "Enter a Number: 9\n",
            "Not Prime\n"
          ]
        }
      ]
    },
    {
      "cell_type": "markdown",
      "source": [
        "**Product of Random Numbers**"
      ],
      "metadata": {
        "id": "CfSw9MYWdGdD"
      }
    },
    {
      "cell_type": "code",
      "source": [
        "import random\n",
        "#random number from 1 to 10\n",
        "num1 = random.randint(1, 10)\n",
        "num2 = random.randint(1, 10)\n",
        "\n",
        "correct_answer = num1 * num2\n",
        "#randon multiplcation of 2 numbers\n",
        "user_answer = int(input(f\"What is {num1} x {num2}? \"))\n",
        "#answer is corrrect\n",
        "if user_answer == correct_answer:\n",
        "    print(\"Correct! Well done.\")\n",
        "else:\n",
        "    print(f\"Incorrect. The correct answer is {correct_answer}.\") #incorrect answer\n"
      ],
      "metadata": {
        "colab": {
          "base_uri": "https://localhost:8080/"
        },
        "id": "iAscZjias6s3",
        "outputId": "e5511292-3968-4d6e-8221-8d96b1f899dd"
      },
      "execution_count": null,
      "outputs": [
        {
          "output_type": "stream",
          "name": "stdout",
          "text": [
            "What is 1 x 10? 5\n",
            "Incorrect. The correct answer is 10.\n"
          ]
        }
      ]
    },
    {
      "cell_type": "markdown",
      "source": [
        "**Squares of Even/Odd Numbers**"
      ],
      "metadata": {
        "id": "c2HRWs12sD1T"
      }
    },
    {
      "cell_type": "code",
      "source": [
        "for num in range(100,201): #number from 100 to 200\n",
        "  if num % 2 == 0: #number is even or not\n",
        "    print(f\"{num} is Even and its Square is {num**2}\")\n",
        "  else:\n",
        "    print(f\"{num} is Odd and its Square is {num**2}\")"
      ],
      "metadata": {
        "colab": {
          "base_uri": "https://localhost:8080/"
        },
        "id": "bitZ3coxsC-D",
        "outputId": "9f5a6ef3-9f2b-4410-c87e-8d13d042ccc5"
      },
      "execution_count": null,
      "outputs": [
        {
          "output_type": "stream",
          "name": "stdout",
          "text": [
            "100 is Even and its Square is 10000\n",
            "101 is Odd and its Square is 10201\n",
            "102 is Even and its Square is 10404\n",
            "103 is Odd and its Square is 10609\n",
            "104 is Even and its Square is 10816\n",
            "105 is Odd and its Square is 11025\n",
            "106 is Even and its Square is 11236\n",
            "107 is Odd and its Square is 11449\n",
            "108 is Even and its Square is 11664\n",
            "109 is Odd and its Square is 11881\n",
            "110 is Even and its Square is 12100\n",
            "111 is Odd and its Square is 12321\n",
            "112 is Even and its Square is 12544\n",
            "113 is Odd and its Square is 12769\n",
            "114 is Even and its Square is 12996\n",
            "115 is Odd and its Square is 13225\n",
            "116 is Even and its Square is 13456\n",
            "117 is Odd and its Square is 13689\n",
            "118 is Even and its Square is 13924\n",
            "119 is Odd and its Square is 14161\n",
            "120 is Even and its Square is 14400\n",
            "121 is Odd and its Square is 14641\n",
            "122 is Even and its Square is 14884\n",
            "123 is Odd and its Square is 15129\n",
            "124 is Even and its Square is 15376\n",
            "125 is Odd and its Square is 15625\n",
            "126 is Even and its Square is 15876\n",
            "127 is Odd and its Square is 16129\n",
            "128 is Even and its Square is 16384\n",
            "129 is Odd and its Square is 16641\n",
            "130 is Even and its Square is 16900\n",
            "131 is Odd and its Square is 17161\n",
            "132 is Even and its Square is 17424\n",
            "133 is Odd and its Square is 17689\n",
            "134 is Even and its Square is 17956\n",
            "135 is Odd and its Square is 18225\n",
            "136 is Even and its Square is 18496\n",
            "137 is Odd and its Square is 18769\n",
            "138 is Even and its Square is 19044\n",
            "139 is Odd and its Square is 19321\n",
            "140 is Even and its Square is 19600\n",
            "141 is Odd and its Square is 19881\n",
            "142 is Even and its Square is 20164\n",
            "143 is Odd and its Square is 20449\n",
            "144 is Even and its Square is 20736\n",
            "145 is Odd and its Square is 21025\n",
            "146 is Even and its Square is 21316\n",
            "147 is Odd and its Square is 21609\n",
            "148 is Even and its Square is 21904\n",
            "149 is Odd and its Square is 22201\n",
            "150 is Even and its Square is 22500\n",
            "151 is Odd and its Square is 22801\n",
            "152 is Even and its Square is 23104\n",
            "153 is Odd and its Square is 23409\n",
            "154 is Even and its Square is 23716\n",
            "155 is Odd and its Square is 24025\n",
            "156 is Even and its Square is 24336\n",
            "157 is Odd and its Square is 24649\n",
            "158 is Even and its Square is 24964\n",
            "159 is Odd and its Square is 25281\n",
            "160 is Even and its Square is 25600\n",
            "161 is Odd and its Square is 25921\n",
            "162 is Even and its Square is 26244\n",
            "163 is Odd and its Square is 26569\n",
            "164 is Even and its Square is 26896\n",
            "165 is Odd and its Square is 27225\n",
            "166 is Even and its Square is 27556\n",
            "167 is Odd and its Square is 27889\n",
            "168 is Even and its Square is 28224\n",
            "169 is Odd and its Square is 28561\n",
            "170 is Even and its Square is 28900\n",
            "171 is Odd and its Square is 29241\n",
            "172 is Even and its Square is 29584\n",
            "173 is Odd and its Square is 29929\n",
            "174 is Even and its Square is 30276\n",
            "175 is Odd and its Square is 30625\n",
            "176 is Even and its Square is 30976\n",
            "177 is Odd and its Square is 31329\n",
            "178 is Even and its Square is 31684\n",
            "179 is Odd and its Square is 32041\n",
            "180 is Even and its Square is 32400\n",
            "181 is Odd and its Square is 32761\n",
            "182 is Even and its Square is 33124\n",
            "183 is Odd and its Square is 33489\n",
            "184 is Even and its Square is 33856\n",
            "185 is Odd and its Square is 34225\n",
            "186 is Even and its Square is 34596\n",
            "187 is Odd and its Square is 34969\n",
            "188 is Even and its Square is 35344\n",
            "189 is Odd and its Square is 35721\n",
            "190 is Even and its Square is 36100\n",
            "191 is Odd and its Square is 36481\n",
            "192 is Even and its Square is 36864\n",
            "193 is Odd and its Square is 37249\n",
            "194 is Even and its Square is 37636\n",
            "195 is Odd and its Square is 38025\n",
            "196 is Even and its Square is 38416\n",
            "197 is Odd and its Square is 38809\n",
            "198 is Even and its Square is 39204\n",
            "199 is Odd and its Square is 39601\n",
            "200 is Even and its Square is 40000\n"
          ]
        }
      ]
    },
    {
      "cell_type": "code",
      "source": [
        "str = input(\"Enter a sentence: \")\n",
        "str = str.split()\n",
        "i = 0\n",
        "count = 0\n",
        "while i < len(str): # counting occurence\n",
        "  count = 0\n",
        "  for j in str:\n",
        "    if str[i] == j:\n",
        "      count = count + 1\n",
        "  print(str[i],\"Present\", count, \"times\" )\n",
        "  i = i + 1\n",
        "\n"
      ],
      "metadata": {
        "colab": {
          "base_uri": "https://localhost:8080/"
        },
        "id": "TgPiFC4Huq2I",
        "outputId": "1bdaaa71-eafa-48f9-bb2e-2454f5e56d0e"
      },
      "execution_count": null,
      "outputs": [
        {
          "output_type": "stream",
          "name": "stdout",
          "text": [
            "Enter a sentence: This is a sample text. This text will be used to demonstrate the word counter\n",
            "This Present 2 times\n",
            "is Present 1 times\n",
            "a Present 1 times\n",
            "sample Present 1 times\n",
            "text. Present 1 times\n",
            "This Present 2 times\n",
            "text Present 1 times\n",
            "will Present 1 times\n",
            "be Present 1 times\n",
            "used Present 1 times\n",
            "to Present 1 times\n",
            "demonstrate Present 1 times\n",
            "the Present 1 times\n",
            "word Present 1 times\n",
            "counter Present 1 times\n"
          ]
        }
      ]
    },
    {
      "cell_type": "code",
      "source": [
        "def pallindrome(word):\n",
        "\n",
        "\n",
        "  word = input(\"Enter a word: \").upper()  # Convert to uppercase\n",
        "  return word == word[::-1] # checking the word with its reverse\n",
        "\n",
        "print(pallindrome(\"\"))\n"
      ],
      "metadata": {
        "id": "kEJjSuL72pH1",
        "colab": {
          "base_uri": "https://localhost:8080/"
        },
        "outputId": "c161e673-2c43-43ad-fcd6-4765449daf7c"
      },
      "execution_count": null,
      "outputs": [
        {
          "output_type": "stream",
          "name": "stdout",
          "text": [
            "Enter a word: hola\n",
            "False\n"
          ]
        }
      ]
    },
    {
      "cell_type": "code",
      "source": [],
      "metadata": {
        "id": "SorVe3QogsW1"
      },
      "execution_count": null,
      "outputs": []
    }
  ]
}